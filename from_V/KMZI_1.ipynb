{
 "cells": [
  {
   "cell_type": "code",
   "execution_count": 25,
   "metadata": {
    "collapsed": true
   },
   "outputs": [
    {
     "name": "stdout",
     "output_type": "stream",
     "text": [
      "['Л', 'Д', 'Т', 'И', 'Т', 'Е', 'З', 'П', 'А', 'О', 'И', 'Л', 'Ч', 'Ы', 'П', 'И', 'Е', 'К', 'М', 'У']\n['С', 'У', 'С', 'Л', 'П', 'Д', 'И', 'Е', 'Н', 'Р', 'К', 'А', 'У', 'Л', 'О', 'К', 'Ы', 'О', 'И', 'И']\n['К', 'Л', 'А', 'А', 'П', 'О', 'Е', 'Х', 'Г', 'Л', 'О', 'Т', 'Р', 'Ч', 'Л', 'Т', 'О', 'О', 'М', 'У']\n['Е', 'Б', 'В', 'У', 'З', 'И', 'Л', 'Ж', 'А', 'О', 'Ч', 'Л', 'М', 'А', 'П', 'А', 'Р', 'П', 'Т', 'К']\n['К', 'М', 'Е', 'Е', 'О', 'Е', 'Т', 'Р', 'Р', 'У', 'О', 'З', 'О', 'Е', 'Д', 'З', 'Е', 'Й', 'М', 'Ш']\n['А', 'Ы', 'Л', 'Л', 'Т', 'И', 'Й', 'О', 'У', 'И', 'Ш', 'П', 'Е', 'А', 'И', 'К', 'Г', 'П', 'А', 'Х']\n['И', 'А', 'А', 'А', 'В', 'П', 'С', 'Л', 'Т', 'Т', 'Е', 'О', 'М', 'О', 'Т', 'О', 'С', 'Й', 'Ш', 'Р']\n['Я', 'Ш', 'А', 'Ы', 'З', 'З', 'Ч', 'Д', 'Ю', 'Ц', 'О', 'О', 'Д', 'С', 'С', 'О', 'Л', 'Р', 'Л', 'Э']\n['Н', 'К', 'Н', 'Ш', 'А', 'Д', 'А', 'И', 'С', 'Ы', 'Д', 'Т', 'И', 'Т', 'Ь', 'Т', 'И', 'О', 'Ы', 'Р']\n['И', 'Ь', 'Р', 'Ц', 'Т', 'В', 'П', 'Е', 'Д', 'Н', 'Х', 'А', 'Т', 'Ш', 'А', 'Е', 'Н', 'О', 'И', 'Я']\n['А', 'А', 'Ч', 'М', 'З', 'Г', 'С', 'Е', 'У', 'У', 'Р', 'П', 'С', 'Й', 'А', 'П', 'М', 'Н', 'О', 'Е']\n"
     ]
    }
   ],
   "source": [
    "text = \"ЛСКЕКАИЯНИАДУЛБМЫАШКЬАТСАВЕЛААНРЧИЛАУЕЛАЫШЦМТППЗОТВЗАТЗЕДОИЕИПЗДВГЗИЕЛТЙСЧАПСПЕХЖРОЛДИЕЕАНГАРУТЮСДУОРЛОУИТЦЫНУИКОЧОШЕОДХРЛАТЛЗПООТАПЧУРМОЕМДИТСЫЛЧАЕАОСТШЙПОЛПДИТСЬААИКТАЗКООТЕПЕЫОРЕГСЛИНМКООПЙПЙРООНМИМТМАШЛЫИОУИУКШХРЭРЯЕ\"\n",
    "step = 11\n",
    "tmp = list()\n",
    "for start in range(step):\n",
    "    tmp.append([text[i] for i in range(start, len(text), step)])\n",
    "    print([text[i] for i in range(start, len(text), step)])\n"
   ]
  },
  {
   "cell_type": "code",
   "execution_count": 26,
   "metadata": {
    "collapsed": true
   },
   "outputs": [
    {
     "name": "stdout",
     "output_type": "stream",
     "text": [
      "ЛСКЕКАИЯНИА\nДУЛБМЫАШКЬА\nТСАВЕЛААНРЧ\nИЛАУЕЛАЫШЦМ\nТППЗОТВЗАТЗ\nЕДОИЕИПЗДВГ\nЗИЕЛТЙСЧАПС\nПЕХЖРОЛДИЕЕ\nАНГАРУТЮСДУ\nОРЛОУИТЦЫНУ\nИКОЧОШЕОДХР\nЛАТЛЗПООТАП\nЧУРМОЕМДИТС\nЫЛЧАЕАОСТШЙ\nПОЛПДИТСЬАА\nИКТАЗКООТЕП\nЕЫОРЕГСЛИНМ\nКООПЙПЙРООН\nМИМТМАШЛЫИО\nУИУКШХРЭРЯЕ\n"
     ]
    }
   ],
   "source": [
    "text = \"ЛСКЕКАИЯНИАДУЛБМЫАШКЬАТСАВЕЛААНРЧИЛАУЕЛАЫШЦМТППЗОТВЗАТЗЕДОИЕИПЗДВГЗИЕЛТЙСЧАПСПЕХЖРОЛДИЕЕАНГАРУТЮСДУОРЛОУИТЦЫНУИКОЧОШЕОДХРЛАТЛЗПООТАПЧУРМОЕМДИТСЫЛЧАЕАОСТШЙПОЛПДИТСЬААИКТАЗКООТЕПЕЫОРЕГСЛИНМКООПЙПЙРООНМИМТМАШЛЫИОУИУКШХРЭРЯЕ\"\n",
    "step = 11\n",
    "tmp = list()\n",
    "for index in range(0, len(text), step):\n",
    "    tmp.append(text[index:index + step])\n",
    "    print(text[index:index + step])\n"
   ]
  },
  {
   "cell_type": "code",
   "execution_count": 17,
   "metadata": {
    "collapsed": true
   },
   "outputs": [
    {
     "name": "stdout",
     "output_type": "stream",
     "text": [
      " 0  1  2  3  4  5  6  7  8  9 10 \n Л  С  К  Е  К  А  И  Я  Н  И  А \n Д  У  Л  Б  М  Ы  А  Ш  К  Ь  А \n Т  С  А  В  Е  Л  А  А  Н  Р  Ч \n И  Л  А  У  Е  Л  А  Ы  Ш  Ц  М \n Т  П  П  З  О  Т  В  З  А  Т  З \n Е  Д  О  И  Е  И  П  З  Д  В  Г \n З  И  Е  Л  Т  Й  С  Ч  А  П  С \n П  Е  Х  Ж  Р  О  Л  Д  И  Е  Е \n А  Н  Г  А  Р  У  Т  Ю  С  Д  У \n О  Р  Л  О  У  И  Т  Ц  Ы  Н  У \n И  К  О  Ч  О  Ш  Е  О  Д  Х  Р \n Л  А  Т  Л  З  П  О  О  Т  А  П \n Ч  У  Р  М  О  Е  М  Д  И  Т  С \n Ы  Л  Ч  А  Е  А  О  С  Т  Ш  Й \n П  О  Л  П  Д  И  Т  С  Ь  А  А \n И  К  Т  А  З  К  О  О  Т  Е  П \n Е  Ы  О  Р  Е  Г  С  Л  И  Н  М \n К  О  О  П  Й  П  Й  Р  О  О  Н \n М  И  М  Т  М  А  Ш  Л  Ы  И  О \n У  И  У  К  Ш  Х  Р  Э  Р  Я  Е \n"
     ]
    }
   ],
   "source": [
    "indexes = [i for i in range(len(tmp[0]))]\n",
    "\n",
    "for column_index in indexes:\n",
    "    print(\"{:2}\".format(column_index), end=\" \")\n",
    "print()\n",
    "for row in tmp:\n",
    "    for column_index in indexes:\n",
    "        if column_index < len(row):\n",
    "            print(\" {}\".format(row[column_index]), end=\" \")\n",
    "    print()"
   ]
  },
  {
   "cell_type": "code",
   "execution_count": 27,
   "metadata": {
    "collapsed": false
   },
   "outputs": [
    {
     "name": "stdout",
     "output_type": "stream",
     "text": [
      "[2, 7]\n К  Я \n Л  Ш \n А  А \n А  Ы \n П  З \n О  З \n Е  Ч \n Х  Д \n Г  Ю \n Л  Ц \n О  О \n Т  О \n Р  Д \n Ч  С \n Л  С \n Т  О \n О  Л \n О  Р \n М  Л \n У  Э \n\n\n\n"
     ]
    }
   ],
   "source": [
    "test_words = [\n",
    "    # 13 x 11\n",
    "    # [1, 7, 8, 1],\n",
    "    # [0, 1, 3, 4, 5, 6, 7, 8, 9, 10],\n",
    "    # [3, 5, 6, 7, 9, 10],\n",
    "    # [0, 1, 3, 4, 5, 6, 7, 8, 9, 10],\n",
    "    # [0, 1, 2, 4, 5, 6, 7, 8, 9, 10],\n",
    "    # [1, 2, 8, 9],\n",
    "    # [2, 8],\n",
    "    # [1, 2, 8, 9],\n",
    "    # [1, 5, 9, 10],\n",
    "    [2, 7],\n",
    "    # [0, 2, 3, 4, 7, 8],\n",
    "    # [0, 3, 4, 5, 6]\n",
    "]\n",
    "for word in test_words:\n",
    "    bad_word = False\n",
    "    for num, symbol in enumerate(word):\n",
    "        if num > 0 and stop_combinations.get(tmp[0][word[num]]) and tmp[0][word[num - 1]] in stop_combinations[tmp[0][word[num]]]:\n",
    "            bad_word = True\n",
    "    if not bad_word:\n",
    "        print(word)\n",
    "        for row in tmp:\n",
    "            for column_index in word:\n",
    "                if column_index < len(row):\n",
    "                    print(\" {}\".format(row[column_index]), end=\" \")\n",
    "            print()\n",
    "        print(\"\\n\\n\")"
   ]
  },
  {
   "cell_type": "code",
   "execution_count": 8,
   "metadata": {},
   "outputs": [
    {
     "data": {
      "text/plain": [
       "{0: {1, 7, 8, 10},\n 1: {3, 5, 6, 7, 9, 10},\n 2: {0, 1, 3, 4, 5, 6, 7, 8, 9, 10},\n 3: {0, 1, 2, 4, 5, 6, 7, 8, 9, 10},\n 4: {1, 2, 8, 9},\n 5: {2, 8},\n 6: {1, 2, 8, 9},\n 7: {1, 5, 9, 10},\n 8: {2, 7},\n 9: {0, 2, 3, 4, 7, 8},\n 10: {0, 3, 4, 5, 6}}"
      ]
     },
     "execution_count": 8,
     "metadata": {},
     "output_type": "execute_result"
    }
   ],
   "source": [
    "stop_combinations = {\n",
    "    \"Ы\": {\"А\", \"Е\", \"И\", \"О\", \"У\", \"Ы\", \"Э\", \"Ю\", \"Я\", \"Ш\", \"Ч\", \"Ж\", \"Щ\"},\n",
    "    \"Ь\": {\"А\", \"Е\", \"И\", \"О\", \"У\", \"Ы\", \"Э\", \"Ю\", \"Я\", \"Ь\", \"Ъ\"},\n",
    "    \"Й\": {\"Б\", \"В\", \"Г\", \"Д\", \"Ж\", \"З\", \"К\", \"Л\", \"М\", \"Н\", \"П\", \"Р\", \"С\", \"Т\", \"У\", \"Ф\", \"Х\", \"Ц\", \"Ч\", \"Ш\", \"Щ\", \"Ь\", \"Ъ\", \"Й\"},\n",
    "}\n",
    "import numpy as np\n",
    "graph = np.zeros((len(tmp[0]), len(tmp[0])))\n",
    "conditions = dict()\n",
    "for col in range(len(tmp[0])):\n",
    "    condition_for_column = set()\n",
    "    for i in range(len(tmp)):\n",
    "        tmp_set = set()\n",
    "        stop_comb = stop_combinations.get(tmp[i][col])\n",
    "        for j in range(len(tmp[0])):\n",
    "            if j == col:\n",
    "                continue\n",
    "            if not stop_comb or stop_comb and tmp[i][j] not in stop_comb:\n",
    "                tmp_set.add(j)\n",
    "        condition_for_column = condition_for_column.intersection(tmp_set) if i > 0 else tmp_set\n",
    "    for i in condition_for_column:\n",
    "        graph[col, i] = 1\n",
    "    conditions[col] = condition_for_column\n",
    "conditions"
   ]
  },
  {
   "cell_type": "code",
   "execution_count": null,
   "metadata": {},
   "outputs": [],
   "source": []
  }
 ],
 "metadata": {
  "kernelspec": {
   "display_name": "Python 3",
   "language": "python",
   "name": "python3"
  },
  "language_info": {
   "codemirror_mode": {
    "name": "ipython",
    "version": 3
   },
   "file_extension": ".py",
   "mimetype": "text/x-python",
   "name": "python",
   "nbconvert_exporter": "python",
   "pygments_lexer": "ipython3",
   "version": "3.6.2"
  }
 },
 "nbformat": 4,
 "nbformat_minor": 2
}
