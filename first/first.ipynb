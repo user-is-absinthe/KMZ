{
 "cells": [
  {
   "cell_type": "code",
   "execution_count": 13,
   "metadata": {
    "collapsed": false
   },
   "outputs": [
    {
     "name": "stdout",
     "output_type": "stream",
     "text": [
      "['Л', 'Ь', 'Ы', 'И', 'Ж', 'Р', 'Р', 'И', 'Т', 'Е', 'М']\n['С', 'А', 'Ш', 'П', 'Р', 'Л', 'Л', 'Т', 'С', 'Г', 'Т']\n['К', 'Т', 'Ц', 'З', 'О', 'О', 'А', 'С', 'Ь', 'С', 'М']\n['Е', 'С', 'М', 'Д', 'Л', 'У', 'Т', 'Ы', 'А', 'Л', 'А']\n['К', 'А', 'Т', 'В', 'Д', 'И', 'Л', 'Л', 'А', 'И', 'Ш']\n['А', 'В', 'П', 'Г', 'И', 'Т', 'З', 'Ч', 'И', 'Н', 'Л']\n['И', 'Е', 'П', 'З', 'Е', 'Ц', 'П', 'А', 'К', 'М', 'Ы']\n['Я', 'Л', 'З', 'И', 'Е', 'Ы', 'О', 'Е', 'Т', 'К', 'И']\n['Н', 'А', 'О', 'Е', 'А', 'Н', 'О', 'А', 'А', 'О', 'О']\n['И', 'А', 'Т', 'Л', 'Н', 'У', 'Т', 'О', 'З', 'О', 'У']\n['А', 'Н', 'В', 'Т', 'Г', 'И', 'А', 'С', 'К', 'П', 'И']\n['Д', 'Р', 'З', 'Й', 'А', 'К', 'П', 'Т', 'О', 'Й', 'У']\n['У', 'Ч', 'А', 'С', 'Р', 'О', 'Ч', 'Ш', 'О', 'П', 'К']\n['Л', 'И', 'Т', 'Ч', 'У', 'Ч', 'У', 'Й', 'Т', 'Й', 'Ш']\n['Б', 'Л', 'З', 'А', 'Т', 'О', 'Р', 'П', 'Е', 'Р', 'Х']\n['М', 'А', 'Е', 'П', 'Ю', 'Ш', 'М', 'О', 'П', 'О', 'Р']\n['Ы', 'У', 'Д', 'С', 'С', 'Е', 'О', 'Л', 'Е', 'О', 'Э']\n['А', 'Е', 'О', 'П', 'Д', 'О', 'Е', 'П', 'Ы', 'Н', 'Р']\n['Ш', 'Л', 'И', 'Е', 'У', 'Д', 'М', 'Д', 'О', 'М', 'Я']\n['К', 'А', 'Е', 'Х', 'О', 'Х', 'Д', 'И', 'Р', 'И', 'Е']\n"
     ]
    }
   ],
   "source": [
    "text = \"ЛСКЕКАИЯНИАДУЛБМЫАШКЬАТСАВЕЛААНРЧИЛАУЕЛАЫШЦМТППЗОТВЗАТЗЕДОИЕИПЗДВГЗИЕЛТЙСЧАПСПЕХЖРОЛДИЕЕАНГАРУТЮСДУОРЛОУИТЦЫНУИКОЧОШЕОДХРЛАТЛЗПООТАПЧУРМОЕМДИТСЫЛЧАЕАОСТШЙПОЛПДИТСЬААИКТАЗКООТЕПЕЫОРЕГСЛИНМКООПЙПЙРООНМИМТМАШЛЫИОУИУКШХРЭРЯЕ\"\n",
    "step = 20\n",
    "tmp = list()\n",
    "for start in range(step):\n",
    "    tmp.append([text[i] for i in range(start, len(text), step)])\n",
    "    print([text[i] for i in range(start, len(text), step)])\n"
   ]
  },
  {
   "cell_type": "code",
   "execution_count": 20,
   "metadata": {
    "collapsed": false
   },
   "outputs": [
    {
     "name": "stdout",
     "output_type": "stream",
     "text": [
      "ЛСКЕКАИЯНИА\nДУЛБМЫАШКЬА\nТСАВЕЛААНРЧ\nИЛАУЕЛАЫШЦМ\nТППЗОТВЗАТЗ\nЕДОИЕИПЗДВГ\nЗИЕЛТЙСЧАПС\nПЕХЖРОЛДИЕЕ\nАНГАРУТЮСДУ\nОРЛОУИТЦЫНУ\nИКОЧОШЕОДХР\nЛАТЛЗПООТАП\nЧУРМОЕМДИТС\nЫЛЧАЕАОСТШЙ\nПОЛПДИТСЬАА\nИКТАЗКООТЕП\nЕЫОРЕГСЛИНМ\nКООПЙПЙРООН\nМИМТМАШЛЫИО\nУИУКШХРЭРЯЕ\n"
     ]
    }
   ],
   "source": [
    "text = \"ЛСКЕКАИЯНИАДУЛБМЫАШКЬАТСАВЕЛААНРЧИЛАУЕЛАЫШЦМТППЗОТВЗАТЗЕДОИЕИПЗДВГЗИЕЛТЙСЧАПСПЕХЖРОЛДИЕЕАНГАРУТЮСДУОРЛОУИТЦЫНУИКОЧОШЕОДХРЛАТЛЗПООТАПЧУРМОЕМДИТСЫЛЧАЕАОСТШЙПОЛПДИТСЬААИКТАЗКООТЕПЕЫОРЕГСЛИНМКООПЙПЙРООНМИМТМАШЛЫИОУИУКШХРЭРЯЕ\"\n",
    "step = 11\n",
    "tmp = list()\n",
    "for index in range(0, len(text), step):\n",
    "    tmp.append(text[index:index + step])\n",
    "    print(text[index:index + step])\n"
   ]
  },
  {
   "cell_type": "code",
   "execution_count": 21,
   "metadata": {
    "collapsed": true
   },
   "outputs": [
    {
     "name": "stdout",
     "output_type": "stream",
     "text": [
      " 0  1  2  3  4  5  6  7  8  9 10 \n Л  С  К  Е  К  А  И  Я  Н  И  А \n Д  У  Л  Б  М  Ы  А  Ш  К  Ь  А \n Т  С  А  В  Е  Л  А  А  Н  Р  Ч \n И  Л  А  У  Е  Л  А  Ы  Ш  Ц  М \n Т  П  П  З  О  Т  В  З  А  Т  З \n Е  Д  О  И  Е  И  П  З  Д  В  Г \n З  И  Е  Л  Т  Й  С  Ч  А  П  С \n П  Е  Х  Ж  Р  О  Л  Д  И  Е  Е \n А  Н  Г  А  Р  У  Т  Ю  С  Д  У \n О  Р  Л  О  У  И  Т  Ц  Ы  Н  У \n И  К  О  Ч  О  Ш  Е  О  Д  Х  Р \n Л  А  Т  Л  З  П  О  О  Т  А  П \n Ч  У  Р  М  О  Е  М  Д  И  Т  С \n Ы  Л  Ч  А  Е  А  О  С  Т  Ш  Й \n П  О  Л  П  Д  И  Т  С  Ь  А  А \n И  К  Т  А  З  К  О  О  Т  Е  П \n Е  Ы  О  Р  Е  Г  С  Л  И  Н  М \n К  О  О  П  Й  П  Й  Р  О  О  Н \n М  И  М  Т  М  А  Ш  Л  Ы  И  О \n У  И  У  К  Ш  Х  Р  Э  Р  Я  Е \n"
     ]
    }
   ],
   "source": [
    "indexes = [i for i in range(len(tmp[0]))]\n",
    "\n",
    "for column_index in indexes:\n",
    "    print(\"{:2}\".format(column_index), end=\" \")\n",
    "print()\n",
    "for row in tmp:\n",
    "    for column_index in indexes:\n",
    "        if column_index < len(row):\n",
    "            print(\" {}\".format(row[column_index]), end=\" \")\n",
    "    print()"
   ]
  },
  {
   "cell_type": "code",
   "execution_count": 15,
   "metadata": {
    "collapsed": true
   },
   "outputs": [
    {
     "name": "stdout",
     "output_type": "stream",
     "text": [
      "[2, 3, 5, 7]\n Ы  И  Р  И \n Ш  П  Л  Т \n Ц  З  О  С \n М  Д  У  Ы \n Т  В  И  Л \n П  Г  Т  Ч \n П  З  Ц  А \n З  И  Ы  Е \n О  Е  Н  А \n Т  Л  У  О \n В  Т  И  С \n З  Й  К  Т \n А  С  О  Ш \n Т  Ч  Ч  Й \n З  А  О  П \n Е  П  Ш  О \n Д  С  Е  Л \n О  П  О  П \n И  Е  Д  Д \n Е  Х  Х  И \n\n\n\n[0, 1, 6, 7, 9]\n Л  Ь  Р  И  Е \n С  А  Л  Т  Г \n К  Т  А  С  С \n Е  С  Т  Ы  Л \n К  А  Л  Л  И \n А  В  З  Ч  Н \n И  Е  П  А  М \n Я  Л  О  Е  К \n Н  А  О  А  О \n И  А  Т  О  О \n А  Н  А  С  П \n Д  Р  П  Т  Й \n У  Ч  Ч  Ш  П \n Л  И  У  Й  Й \n Б  Л  Р  П  Р \n М  А  М  О  О \n Ы  У  О  Л  О \n А  Е  Е  П  Н \n Ш  Л  М  Д  М \n К  А  Д  И  И \n\n\n\n[0, 1, 2, 3, 5, 6, 7, 8, 9]\n Л  Ь  Ы  И  Р  Р  И  Т  Е \n С  А  Ш  П  Л  Л  Т  С  Г \n К  Т  Ц  З  О  А  С  Ь  С \n Е  С  М  Д  У  Т  Ы  А  Л \n К  А  Т  В  И  Л  Л  А  И \n А  В  П  Г  Т  З  Ч  И  Н \n И  Е  П  З  Ц  П  А  К  М \n Я  Л  З  И  Ы  О  Е  Т  К \n Н  А  О  Е  Н  О  А  А  О \n И  А  Т  Л  У  Т  О  З  О \n А  Н  В  Т  И  А  С  К  П \n Д  Р  З  Й  К  П  Т  О  Й \n У  Ч  А  С  О  Ч  Ш  О  П \n Л  И  Т  Ч  Ч  У  Й  Т  Й \n Б  Л  З  А  О  Р  П  Е  Р \n М  А  Е  П  Ш  М  О  П  О \n Ы  У  Д  С  Е  О  Л  Е  О \n А  Е  О  П  О  Е  П  Ы  Н \n Ш  Л  И  Е  Д  М  Д  О  М \n К  А  Е  Х  Х  Д  И  Р  И \n\n\n\n[0, 1, 2, 3, 4, 6, 7, 8, 9]\n Л  Ь  Ы  И  Ж  Р  И  Т  Е \n С  А  Ш  П  Р  Л  Т  С  Г \n К  Т  Ц  З  О  А  С  Ь  С \n Е  С  М  Д  Л  Т  Ы  А  Л \n К  А  Т  В  Д  Л  Л  А  И \n А  В  П  Г  И  З  Ч  И  Н \n И  Е  П  З  Е  П  А  К  М \n Я  Л  З  И  Е  О  Е  Т  К \n Н  А  О  Е  А  О  А  А  О \n И  А  Т  Л  Н  Т  О  З  О \n А  Н  В  Т  Г  А  С  К  П \n Д  Р  З  Й  А  П  Т  О  Й \n У  Ч  А  С  Р  Ч  Ш  О  П \n Л  И  Т  Ч  У  У  Й  Т  Й \n Б  Л  З  А  Т  Р  П  Е  Р \n М  А  Е  П  Ю  М  О  П  О \n Ы  У  Д  С  С  О  Л  Е  О \n А  Е  О  П  Д  Е  П  Ы  Н \n Ш  Л  И  Е  У  М  Д  О  М \n К  А  Е  Х  О  Д  И  Р  И \n\n\n\n[0, 1, 2, 3, 4, 5, 6, 7, 9]\n Л  Ь  Ы  И  Ж  Р  Р  И  Е \n С  А  Ш  П  Р  Л  Л  Т  Г \n К  Т  Ц  З  О  О  А  С  С \n Е  С  М  Д  Л  У  Т  Ы  Л \n К  А  Т  В  Д  И  Л  Л  И \n А  В  П  Г  И  Т  З  Ч  Н \n И  Е  П  З  Е  Ц  П  А  М \n Я  Л  З  И  Е  Ы  О  Е  К \n Н  А  О  Е  А  Н  О  А  О \n И  А  Т  Л  Н  У  Т  О  О \n А  Н  В  Т  Г  И  А  С  П \n Д  Р  З  Й  А  К  П  Т  Й \n У  Ч  А  С  Р  О  Ч  Ш  П \n Л  И  Т  Ч  У  Ч  У  Й  Й \n Б  Л  З  А  Т  О  Р  П  Р \n М  А  Е  П  Ю  Ш  М  О  О \n Ы  У  Д  С  С  Е  О  Л  О \n А  Е  О  П  Д  О  Е  П  Н \n Ш  Л  И  Е  У  Д  М  Д  М \n К  А  Е  Х  О  Х  Д  И  И \n\n\n\n[0, 1, 2, 3, 4, 5, 6, 7, 8]\n Л  Ь  Ы  И  Ж  Р  Р  И  Т \n С  А  Ш  П  Р  Л  Л  Т  С \n К  Т  Ц  З  О  О  А  С  Ь \n Е  С  М  Д  Л  У  Т  Ы  А \n К  А  Т  В  Д  И  Л  Л  А \n А  В  П  Г  И  Т  З  Ч  И \n И  Е  П  З  Е  Ц  П  А  К \n Я  Л  З  И  Е  Ы  О  Е  Т \n Н  А  О  Е  А  Н  О  А  А \n И  А  Т  Л  Н  У  Т  О  З \n А  Н  В  Т  Г  И  А  С  К \n Д  Р  З  Й  А  К  П  Т  О \n У  Ч  А  С  Р  О  Ч  Ш  О \n Л  И  Т  Ч  У  Ч  У  Й  Т \n Б  Л  З  А  Т  О  Р  П  Е \n М  А  Е  П  Ю  Ш  М  О  П \n Ы  У  Д  С  С  Е  О  Л  Е \n А  Е  О  П  Д  О  Е  П  Ы \n Ш  Л  И  Е  У  Д  М  Д  О \n К  А  Е  Х  О  Х  Д  И  Р \n\n\n\n"
     ]
    }
   ],
   "source": [
    "test_words = [\n",
    "    []\n",
    "    \n",
    "]\n",
    "for word in test_words:\n",
    "    bad_word = False\n",
    "    for num, symbol in enumerate(word):\n",
    "        if num > 0 and stop_combinations.get(tmp[0][word[num]]) and tmp[0][word[num - 1]] in stop_combinations[tmp[0][word[num]]]:\n",
    "            bad_word = True\n",
    "    if not bad_word:\n",
    "        print(word)\n",
    "        for row in tmp:\n",
    "            for column_index in word:\n",
    "                if column_index < len(row):\n",
    "                    print(\" {}\".format(row[column_index]), end=\" \")\n",
    "            print()\n",
    "        print(\"\\n\\n\")"
   ]
  },
  {
   "cell_type": "code",
   "execution_count": 22,
   "metadata": {},
   "outputs": [
    {
     "data": {
      "text/plain": [
       "{0: {1, 7, 8, 10},\n 1: {3, 5, 6, 7, 9, 10},\n 2: {0, 1, 3, 4, 5, 6, 7, 8, 9, 10},\n 3: {0, 1, 2, 4, 5, 6, 7, 8, 9, 10},\n 4: {1, 2, 8, 9},\n 5: {2, 8},\n 6: {1, 2, 8, 9},\n 7: {1, 5, 9, 10},\n 8: {2, 7},\n 9: {0, 2, 3, 4, 7, 8},\n 10: {0, 3, 4, 5, 6}}"
      ]
     },
     "execution_count": 22,
     "metadata": {},
     "output_type": "execute_result"
    }
   ],
   "source": [
    "stop_combinations = {\n",
    "    \"Ы\": {\"А\", \"Е\", \"И\", \"О\", \"У\", \"Ы\", \"Э\", \"Ю\", \"Я\", \"Ш\", \"Ч\", \"Ж\", \"Щ\"},\n",
    "    \"Ь\": {\"А\", \"Е\", \"И\", \"О\", \"У\", \"Ы\", \"Э\", \"Ю\", \"Я\", \"Ь\", \"Ъ\"},\n",
    "    \"Й\": {\"Б\", \"В\", \"Г\", \"Д\", \"Ж\", \"З\", \"К\", \"Л\", \"М\", \"Н\", \"П\", \"Р\", \"С\", \"Т\", \"У\", \"Ф\", \"Х\", \"Ц\", \"Ч\", \"Ш\", \"Щ\", \"Ь\", \"Ъ\", \"Й\"},\n",
    "}\n",
    "import numpy as np\n",
    "graph = np.zeros((len(tmp[0]), len(tmp[0])))\n",
    "conditions = dict()\n",
    "for col in range(len(tmp[0])):\n",
    "    condition_for_column = set()\n",
    "    for i in range(len(tmp)):\n",
    "        tmp_set = set()\n",
    "        stop_comb = stop_combinations.get(tmp[i][col])\n",
    "        for j in range(len(tmp[0])):\n",
    "            if j == col:\n",
    "                continue\n",
    "            if not stop_comb or stop_comb and tmp[i][j] not in stop_comb:\n",
    "                tmp_set.add(j)\n",
    "        condition_for_column = condition_for_column.intersection(tmp_set) if i > 0 else tmp_set\n",
    "    for i in condition_for_column:\n",
    "        graph[col, i] = 1\n",
    "    conditions[col] = condition_for_column\n",
    "conditions\n"
   ]
  },
  {
   "cell_type": "code",
   "execution_count": null,
   "metadata": {},
   "outputs": [],
   "source": []
  }
 ],
 "metadata": {
  "kernelspec": {
   "display_name": "Python 3",
   "language": "python",
   "name": "python3"
  },
  "language_info": {
   "codemirror_mode": {
    "name": "ipython",
    "version": 3
   },
   "file_extension": ".py",
   "mimetype": "text/x-python",
   "name": "python",
   "nbconvert_exporter": "python",
   "pygments_lexer": "ipython3",
   "version": "3.6.2"
  }
 },
 "nbformat": 4,
 "nbformat_minor": 2
}
