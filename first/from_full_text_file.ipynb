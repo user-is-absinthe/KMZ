{
 "cells": [
  {
   "cell_type": "code",
   "execution_count": 1,
   "metadata": {
    "collapsed": true
   },
   "outputs": [],
   "source": [
    "import re\n",
    "\n",
    "with open('/Users/owl/Pycharm/PycharmProjects/KMZ/first/text/Nosov_Vse-Priklyucheniya-Neznayki-v-odnoy-knige.A3hZkQ.380123.fb2', 'r') as file:\n",
    "    full_text = file.read()\n",
    "\n",
    "normalazed_text = full_text.replace(' ', '')\n",
    "normalazed_text = normalazed_text.replace('.', 'тчк')\n",
    "normalazed_text = normalazed_text.replace(',', 'зпт')\n",
    "normalazed_text = normalazed_text.replace('\\n', '')\n",
    "normalazed_text = re.sub(r'[^\\w\\s]', '', normalazed_text)\n",
    "normalazed_text = normalazed_text.upper()\n",
    "normalazed_text = normalazed_text.replace('Ё', 'Е')\n",
    "\n",
    "\n",
    "normalazed_text = re.sub('<[^<]+>', \"\", normalazed_text)\n"
   ]
  },
  {
   "cell_type": "code",
   "execution_count": 2,
   "metadata": {},
   "outputs": [],
   "source": [
    "closed_text = \"\"\"ЛСКЕК АИЯНИ АДУЛБ МЫАШК ЬАТСА ВЕЛАА НРЧИЛ АУЕЛА \n",
    "ЫШЦМТ ППЗОТ ВЗАТЗ ЕДОИЕ ИПЗДВ ГЗИЕЛ ТЙСЧА ПСПЕХ ЖРОЛД ИЕЕАН ГАРУТ\n",
    "ЮСДУО РЛОУИ ТЦЫНУ ИКОЧО ШЕОДХ РЛАТЛ ЗПООТ АПЧУР МОЕМД ИТСЫЛ ЧАЕАО\n",
    "СТШЙП ОЛПДИ ТСЬАА ИКТАЗ КООТЕ ПЕЫОР ЕГСЛИ НМКОО ПЙПЙР ООНМИ МТМАШ\n",
    "ЛЫИОУ ИУКШХ РЭРЯЕ\"\"\"\n",
    "closed_text = closed_text.replace(' ', '')\n",
    "closed_text = closed_text.replace('\\n', '')\n"
   ]
  },
  {
   "cell_type": "code",
   "execution_count": 3,
   "metadata": {},
   "outputs": [],
   "source": [
    "def is_good_split(closed_text, stop=15):\n",
    "    good_split = list()\n",
    "    for i in range(5, stop):\n",
    "        tmp_list = text_to_rows(closed_text, i)\n",
    "        if len(tmp_list[-1]) == len(tmp_list[-2]):\n",
    "            good_split.append(tmp_list)\n",
    "    return good_split\n"
   ]
  },
  {
   "cell_type": "code",
   "execution_count": 4,
   "metadata": {},
   "outputs": [],
   "source": [
    "def text_to_rows(text, len_row):\n",
    "    rows_list = list()\n",
    "    start = 0\n",
    "    end = len_row\n",
    "    while True:\n",
    "        temp_line = text[start:end]\n",
    "        start = end\n",
    "        end += len_row\n",
    "        if temp_line != '':\n",
    "            rows_list.append(temp_line)\n",
    "        else:\n",
    "            break\n",
    "    return rows_list"
   ]
  },
  {
   "cell_type": "code",
   "execution_count": 5,
   "metadata": {
    "collapsed": true
   },
   "outputs": [],
   "source": [
    "all_variants = is_good_split(closed_text, 13)"
   ]
  },
  {
   "cell_type": "code",
   "execution_count": 6,
   "metadata": {},
   "outputs": [],
   "source": [
    "import collections\n",
    "\n",
    "\n",
    "def find_str(closed_text, open_text, index=0):\n",
    "    len_now_row = len(closed_text[index])\n",
    "    start = 0\n",
    "    end = len_now_row\n",
    "    answered_list = list()\n",
    "    for i in range(len(open_text)):\n",
    "        temp_row = open_text[start:end]\n",
    "        if collections.Counter(closed_text[index]) == collections.Counter(temp_row):\n",
    "            answered_list.append((i, temp_row))\n",
    "        start += 1\n",
    "        end += 1\n",
    "    \n",
    "    return answered_list"
   ]
  },
  {
   "cell_type": "code",
   "execution_count": 7,
   "metadata": {},
   "outputs": [
    {
     "data": {
      "text/plain": [
       "[[(768385, 'СЕЛКК'), (978793, 'ЛКЕКС')], [], [(3316, 'ЕСЛИКАКАЯНИ')]]"
      ]
     },
     "execution_count": 7,
     "metadata": {},
     "output_type": "execute_result"
    }
   ],
   "source": [
    "my_answ = list()\n",
    "for variant in all_variants:\n",
    "    my_answ.append(find_str(variant, normalazed_text))\n",
    "my_answ"
   ]
  },
  {
   "cell_type": "code",
   "execution_count": 10,
   "metadata": {},
   "outputs": [],
   "source": [
    "good_variant = all_variants[-1]"
   ]
  },
  {
   "cell_type": "code",
   "execution_count": 22,
   "metadata": {},
   "outputs": [
    {
     "name": "stdout",
     "output_type": "stream",
     "text": [
      "(3316, 'ЕСЛИКАКАЯНИ')\n(3317, 'БУДЬМАЛЫШКА')\n01234567890123\nЛСКЕКАИЯНИА\nДУЛБМЫАШКЬА\n"
     ]
    }
   ],
   "source": [
    "print(my_answ[2][0])\n",
    "print((3317, normalazed_text[3327:3338]))\n",
    "print('01234567890123')\n",
    "print(good_variant[0])\n",
    "print(good_variant[1])"
   ]
  },
  {
   "cell_type": "code",
   "execution_count": 26,
   "metadata": {},
   "outputs": [
    {
     "name": "stdout",
     "output_type": "stream",
     "text": [
      "11\nЕСЛИКАКАЯНИ\nБУДЬМАЛЫШКА\nВСТРЕЧАЛАНА\nУЛИЦЕМАЛЫША\nЗПТТОЗПТЗАВ\nИДЕВЕГОИЗДП\nЛИЗПТСЕЙЧАС\nЖЕПЕРЕХОДИЛ\nАНАДРУГУЮСТ\nОРОНУУЛИЦЫТ\nЧКИХОРОШОДЕ\nЛАЛАЗПТПОТО\nМУЧТОСРЕДИМ\nАЛЫШЕЙЧАСТО\nПОПАДАЛИСЬТ\nАКИЕЗПТКОТО\nРЫЕНЕМОГЛИС\nПОКОЙНОПРОЙ\nТИМИМОМАЛЫШ\nКИУЯШЕУХЭРР\n"
     ]
    }
   ],
   "source": [
    "order = '31094a25786'\n",
    "print(len(order))\n",
    "for line in good_variant:\n",
    "    for letter in order:\n",
    "        try:\n",
    "            index = int(letter)\n",
    "        except ValueError:\n",
    "            if letter == 'a':\n",
    "                index = 10\n",
    "            elif letter == 'b':\n",
    "                index = 11\n",
    "            elif letter == 'c':\n",
    "                index = 12\n",
    "            elif letter == 'd':\n",
    "                index = 13\n",
    "            elif letter == 'e':\n",
    "                index = 14\n",
    "            elif letter == 'f':\n",
    "                index = 15\n",
    "        print(line[index], end='')\n",
    "    print()"
   ]
  },
  {
   "cell_type": "code",
   "execution_count": null,
   "metadata": {},
   "outputs": [],
   "source": []
  }
 ],
 "metadata": {
  "kernelspec": {
   "display_name": "Python 2",
   "language": "python",
   "name": "python2"
  },
  "language_info": {
   "codemirror_mode": {
    "name": "ipython",
    "version": 2
   },
   "file_extension": ".py",
   "mimetype": "text/x-python",
   "name": "python",
   "nbconvert_exporter": "python",
   "pygments_lexer": "ipython2",
   "version": "2.7.6"
  }
 },
 "nbformat": 4,
 "nbformat_minor": 0
}
