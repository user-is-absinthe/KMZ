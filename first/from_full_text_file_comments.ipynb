{
 "cells": [
  {
   "cell_type": "markdown",
   "metadata": {
    "collapsed": true
   },
   "source": [
    "Запусти меня первым.\n",
    "---------"
   ]
  },
  {
   "cell_type": "heading",
   "metadata": {},
   "level": 4,
   "source": [
    "Загрузка и обработка книжки. Лучше прописать абсолютный путь до нее. \n",
    "(Сейчас используется относительный.)"
   ]
  },
  {
   "cell_type": "code",
   "execution_count": 1,
   "metadata": {},
   "outputs": [],
   "source": [
    "import re\n",
    "\n",
    "with open('first/text/book.fb2', 'r') as file:\n",
    "    full_text = file.read()\n",
    "\n",
    "normalazed_text = full_text.replace(' ', '')\n",
    "normalazed_text = normalazed_text.replace('.', 'тчк')\n",
    "normalazed_text = normalazed_text.replace(',', 'зпт')\n",
    "normalazed_text = normalazed_text.replace('\\n', '')\n",
    "normalazed_text = re.sub(r'[^\\w\\s]', '', normalazed_text)\n",
    "normalazed_text = normalazed_text.upper()\n",
    "normalazed_text = normalazed_text.replace('Ё', 'Е')\n",
    "\n",
    "\n",
    "normalazed_text = re.sub('<[^<]+>', \"\", normalazed_text)\n"
   ]
  },
  {
   "cell_type": "heading",
   "metadata": {},
   "level": 4,
   "source": [
    "Запускать вторым.\n",
    "Загрузка закрытого текста."
   ]
  },
  {
   "cell_type": "code",
   "execution_count": 2,
   "metadata": {},
   "outputs": [],
   "source": [
    "closed_text = \"\"\"ЛСКЕК АИЯНИ АДУЛБ МЫАШК ЬАТСА ВЕЛАА НРЧИЛ АУЕЛА \n",
    "ЫШЦМТ ППЗОТ ВЗАТЗ ЕДОИЕ ИПЗДВ ГЗИЕЛ ТЙСЧА ПСПЕХ ЖРОЛД ИЕЕАН ГАРУТ\n",
    "ЮСДУО РЛОУИ ТЦЫНУ ИКОЧО ШЕОДХ РЛАТЛ ЗПООТ АПЧУР МОЕМД ИТСЫЛ ЧАЕАО\n",
    "СТШЙП ОЛПДИ ТСЬАА ИКТАЗ КООТЕ ПЕЫОР ЕГСЛИ НМКОО ПЙПЙР ООНМИ МТМАШ\n",
    "ЛЫИОУ ИУКШХ РЭРЯЕ\"\"\"\n",
    "closed_text = closed_text.replace(' ', '')\n",
    "closed_text = closed_text.replace('\\n', '')\n"
   ]
  },
  {
   "cell_type": "heading",
   "metadata": {},
   "level": 4,
   "source": [
    "Запускать третьим.\n",
    "Всякие нужные функции."
   ]
  },
  {
   "cell_type": "code",
   "execution_count": 4,
   "metadata": {},
   "outputs": [],
   "source": [
    "import collections\n",
    "\n",
    "\n",
    "def find_str(closed_text, open_text, index=0):\n",
    "    len_now_row = len(closed_text[index])\n",
    "    start = 0\n",
    "    end = len_now_row\n",
    "    answered_list = list()\n",
    "    for i in range(len(open_text)):\n",
    "        temp_row = open_text[start:end]\n",
    "        if collections.Counter(closed_text[index]) == collections.Counter(temp_row):\n",
    "            answered_list.append((i, temp_row))\n",
    "        start += 1\n",
    "        end += 1\n",
    "    \n",
    "    return answered_list\n",
    "    \n",
    "\n",
    "def is_good_split(closed_text, start=5, stop=15):\n",
    "    good_split = list()\n",
    "    for i in range(start, stop):\n",
    "        tmp_list = text_to_rows(closed_text, i)\n",
    "        if len(tmp_list[-1]) == len(tmp_list[-2]):\n",
    "            good_split.append(tmp_list)\n",
    "    return good_split\n",
    "\n",
    "\n",
    "def text_to_rows(text, len_row):\n",
    "    rows_list = list()\n",
    "    start = 0\n",
    "    end = len_row\n",
    "    while True:\n",
    "        temp_line = text[start:end]\n",
    "        start = end\n",
    "        end += len_row\n",
    "        if temp_line != '':\n",
    "            rows_list.append(temp_line)\n",
    "        else:\n",
    "            break\n",
    "    return rows_list"
   ]
  },
  {
   "cell_type": "heading",
   "metadata": {},
   "level": 4,
   "source": [
    "Запускать четвертым. Генерируем все допустимые варианты разбиений в диапазаное от start до stop. Проверка по \"квадратности\" таблицы."
   ]
  },
  {
   "cell_type": "code",
   "execution_count": 7,
   "metadata": {
    "collapsed": true
   },
   "outputs": [
    {
     "data": {
      "text/plain": [
       "[['ЛСКЕКАИЯНИ',\n  'АДУЛБМЫАШК',\n  'ЬАТСАВЕЛАА',\n  'НРЧИЛАУЕЛА',\n  'ЫШЦМТППЗОТ',\n  'ВЗАТЗЕДОИЕ',\n  'ИПЗДВГЗИЕЛ',\n  'ТЙСЧАПСПЕХ',\n  'ЖРОЛДИЕЕАН',\n  'ГАРУТЮСДУО',\n  'РЛОУИТЦЫНУ',\n  'ИКОЧОШЕОДХ',\n  'РЛАТЛЗПООТ',\n  'АПЧУРМОЕМД',\n  'ИТСЫЛЧАЕАО',\n  'СТШЙПОЛПДИ',\n  'ТСЬААИКТАЗ',\n  'КООТЕПЕЫОР',\n  'ЕГСЛИНМКОО',\n  'ПЙПЙРООНМИ',\n  'МТМАШЛЫИОУ',\n  'ИУКШХРЭРЯЕ'],\n ['ЛСКЕКАИЯНИА',\n  'ДУЛБМЫАШКЬА',\n  'ТСАВЕЛААНРЧ',\n  'ИЛАУЕЛАЫШЦМ',\n  'ТППЗОТВЗАТЗ',\n  'ЕДОИЕИПЗДВГ',\n  'ЗИЕЛТЙСЧАПС',\n  'ПЕХЖРОЛДИЕЕ',\n  'АНГАРУТЮСДУ',\n  'ОРЛОУИТЦЫНУ',\n  'ИКОЧОШЕОДХР',\n  'ЛАТЛЗПООТАП',\n  'ЧУРМОЕМДИТС',\n  'ЫЛЧАЕАОСТШЙ',\n  'ПОЛПДИТСЬАА',\n  'ИКТАЗКООТЕП',\n  'ЕЫОРЕГСЛИНМ',\n  'КООПЙПЙРООН',\n  'МИМТМАШЛЫИО',\n  'УИУКШХРЭРЯЕ']]"
      ]
     },
     "execution_count": 7,
     "metadata": {},
     "output_type": "execute_result"
    }
   ],
   "source": [
    "all_variants = is_good_split(closed_text, start=8, stop=13)\n",
    "all_variants"
   ]
  },
  {
   "cell_type": "heading",
   "metadata": {},
   "level": 4,
   "source": [
    "Запускать пятым.\n",
    "Ищем по всем доступным вариантам по тексту. Работает не быстро."
   ]
  },
  {
   "cell_type": "code",
   "execution_count": 9,
   "metadata": {},
   "outputs": [
    {
     "data": {
      "text/plain": [
       "[[], [(3316, 'ЕСЛИКАКАЯНИ')]]"
      ]
     },
     "execution_count": 9,
     "metadata": {},
     "output_type": "execute_result"
    }
   ],
   "source": [
    "my_answ = list()\n",
    "for variant in all_variants:\n",
    "    my_answ.append(find_str(variant, normalazed_text))\n",
    "my_answ"
   ]
  },
  {
   "cell_type": "heading",
   "metadata": {},
   "level": 4,
   "source": [
    "Запускать шестым.\n",
    "Выбираем подходяще (-ие, но это вряд ли) разбиение (-ы). Смотрим чтобы начало (из п.5) было похоже на начало слова. Выбираем этот вариант через длину подстроки из всех вариантов полученных в п.4. "
   ]
  },
  {
   "cell_type": "code",
   "execution_count": 16,
   "metadata": {},
   "outputs": [],
   "source": [
    "good_variant = all_variants[-1]"
   ]
  },
  {
   "cell_type": "heading",
   "metadata": {},
   "level": 4,
   "source": [
    "Запускать седьмым.\n",
    "good_tuple - подобрать правильную пару из пятой ячейки."
   ]
  },
  {
   "cell_type": "code",
   "execution_count": 18,
   "metadata": {
    "collapsed": false
   },
   "outputs": [
    {
     "name": "stdout",
     "output_type": "stream",
     "text": [
      "(3316, 'ЕСЛИКАКАЯНИ')\n(3327, 'БУДЬМАЛЫШКА')\n01234567890123\nЛСКЕКАИЯНИА\nДУЛБМЫАШКЬА\n"
     ]
    }
   ],
   "source": [
    "good_tuple = my_answ[1][0]\n",
    "print(good_tuple)\n",
    "print((\n",
    "    good_tuple[0] + len(good_tuple[1]),\n",
    "    normalazed_text[good_tuple[0] + len(good_tuple[1]):good_tuple[0] + len(good_tuple[1]) + len(good_tuple[1])]))\n",
    "print('01234567890123')\n",
    "print(good_variant[0])\n",
    "print(good_variant[1])"
   ]
  },
  {
   "cell_type": "markdown",
   "metadata": {},
   "source": [
    "Запускать 8 и крутить до получения текста.  Как работает: 1. Смотрим на п.7, выбираем первую букву по первым двум открытым строкам из закрытых (нумерация с 0).  2. Подставляем ее в order.  3. Запускаем, смотрим столбцы.  4. ???????  5. PROFIT!!!  Так пока не получится текст.  \n",
    "***\n",
    "Удачи."
   ]
  },
  {
   "cell_type": "code",
   "execution_count": 19,
   "metadata": {},
   "outputs": [
    {
     "name": "stdout",
     "output_type": "stream",
     "text": [
      "11\nЕСЛИКАКАЯНИ\nБУДЬМАЛЫШКА\nВСТРЕЧАЛАНА\nУЛИЦЕМАЛЫША\nЗПТТОЗПТЗАВ\nИДЕВЕГОИЗДП\nЛИЗПТСЕЙЧАС\nЖЕПЕРЕХОДИЛ\nАНАДРУГУЮСТ\nОРОНУУЛИЦЫТ\nЧКИХОРОШОДЕ\nЛАЛАЗПТПОТО\nМУЧТОСРЕДИМ\nАЛЫШЕЙЧАСТО\nПОПАДАЛИСЬТ\nАКИЕЗПТКОТО\nРЫЕНЕМОГЛИС\nПОКОЙНОПРОЙ\nТИМИМОМАЛЫШ\nКИУЯШЕУХЭРР\n"
     ]
    }
   ],
   "source": [
    "order = '31094a25786'\n",
    "print(len(order))\n",
    "for line in good_variant:\n",
    "    for letter in order:\n",
    "        try:\n",
    "            index = int(letter)\n",
    "        except ValueError:\n",
    "            if letter == 'a':\n",
    "                index = 10\n",
    "            elif letter == 'b':\n",
    "                index = 11\n",
    "            elif letter == 'c':\n",
    "                index = 12\n",
    "            elif letter == 'd':\n",
    "                index = 13\n",
    "            elif letter == 'e':\n",
    "                index = 14\n",
    "            elif letter == 'f':\n",
    "                index = 15\n",
    "        print(line[index], end='')\n",
    "    print()"
   ]
  }
 ],
 "metadata": {
  "kernelspec": {
   "display_name": "Python 2",
   "language": "python",
   "name": "python2"
  },
  "language_info": {
   "codemirror_mode": {
    "name": "ipython",
    "version": 2
   },
   "file_extension": ".py",
   "mimetype": "text/x-python",
   "name": "python",
   "nbconvert_exporter": "python",
   "pygments_lexer": "ipython2",
   "version": "2.7.6"
  }
 },
 "nbformat": 4,
 "nbformat_minor": 0
}
