{
 "cells": [
  {
   "cell_type": "code",
   "execution_count": 79,
   "metadata": {},
   "outputs": [],
   "source": [
    "CONST_1 = 800\n",
    "CONST_2 = 50\n",
    "\n"
   ]
  },
  {
   "cell_type": "code",
   "execution_count": 80,
   "metadata": {},
   "outputs": [],
   "source": [
    "path_to_file = r'/Users/owl/Pycharm/PycharmProjects/KMZ/OTU/files/in/audio_closed/1203145834_46893.wav'\n"
   ]
  },
  {
   "cell_type": "code",
   "execution_count": 81,
   "metadata": {},
   "outputs": [],
   "source": [
    "from pydub import AudioSegment"
   ]
  },
  {
   "cell_type": "code",
   "execution_count": 82,
   "metadata": {
    "collapsed": true
   },
   "outputs": [],
   "source": [
    "# нарезает файлик на сегменты указанной длинны \n",
    "def segmentation_8(sound, len_segment):\n",
    "    # global CONST_1\n",
    "    # sound = AudioSegment.from_wav(wav_name)\n",
    "    length = len(sound)\n",
    "    #print(str(length) + 'ms')\n",
    "    length1 = length % len_segment\n",
    "    length = length - length1\n",
    "    sound1 = sound[:length]\n",
    "    sound_list = []\n",
    "    i = 0\n",
    "    while i < length:\n",
    "        s = sound1[i:i + len_segment]\n",
    "        #print(len(s))\n",
    "        sound_list.append(s)\n",
    "        i = i + len_segment\n",
    "    return sound_list\n"
   ]
  },
  {
   "cell_type": "code",
   "execution_count": 83,
   "metadata": {},
   "outputs": [],
   "source": [
    "# проверяет монотонность\n",
    "def check(seg1_a, seg2_a):\n",
    "    seg1_mon = seg1_a[1][0] - seg1_a[1][1]\n",
    "    seg2_mon = - seg2_a[0][0] + seg2_a[0][1]\n",
    "    if seg1_mon * seg2_mon >= 0:\n",
    "        return True\n",
    "    else:\n",
    "        return False\n"
   ]
  },
  {
   "cell_type": "code",
   "execution_count": 84,
   "metadata": {},
   "outputs": [],
   "source": [
    "# извлекает \"высоту\" первого и последнего ксочков\n",
    "def amplitude(seg):\n",
    "    beg = (seg[0].max, seg[1].max, seg[2].max, seg[3].max, seg[4].max)\n",
    "    end = (seg[-2].max, seg[-3].max, seg[-4].max, seg[-5].max, seg[-6].max)\n",
    "    return beg, end\n"
   ]
  },
  {
   "cell_type": "code",
   "execution_count": 85,
   "metadata": {},
   "outputs": [],
   "source": [
    "file = AudioSegment.from_wav(path_to_file)\n"
   ]
  },
  {
   "cell_type": "code",
   "execution_count": 86,
   "metadata": {},
   "outputs": [],
   "source": [
    "file_slice_big = segmentation_8(file, CONST_1)"
   ]
  },
  {
   "cell_type": "code",
   "execution_count": 87,
   "metadata": {},
   "outputs": [],
   "source": [
    "file_slice_small = list()\n",
    "file_slice_small_amplitude = list()\n",
    "for _slice in file_slice_big:\n",
    "    temp_slice = segmentation_8(_slice, CONST_2)\n",
    "    file_slice_small += temp_slice\n",
    "    for f in temp_slice:\n",
    "        file_slice_small_amplitude += amplitude(f)"
   ]
  },
  {
   "cell_type": "code",
   "execution_count": 88,
   "metadata": {},
   "outputs": [],
   "source": [
    "eq_indexes = list()\n",
    "for index_first in range(len(file_slice_small_amplitude)):\n",
    "    for index_last in range(len(file_slice_small_amplitude)):\n",
    "        if file_slice_small_amplitude[index_first][-1] == file_slice_small_amplitude[index_last][0]:\n",
    "            eq_indexes.append((index_first, index_last))\n"
   ]
  },
  {
   "cell_type": "code",
   "execution_count": 89,
   "metadata": {
    "collapsed": true
   },
   "outputs": [
    {
     "data": {
      "text/plain": [
       "1.2638888888888888"
      ]
     },
     "execution_count": 89,
     "metadata": {},
     "output_type": "execute_result"
    }
   ],
   "source": [
    "len(eq_indexes) / len(file_slice_small)"
   ]
  },
  {
   "cell_type": "code",
   "execution_count": 90,
   "metadata": {},
   "outputs": [
    {
     "name": "stdout",
     "output_type": "stream",
     "text": [
      "[(0, 152), (0, 200), (0, 434), (0, 543), (0, 565), (2, 561), (3, 33), (3, 41), (4, 460), (5, 2), (5, 73), (5, 122), (5, 244), (5, 399), (6, 515), (8, 405), (8, 531), (9, 473), (13, 12), (15, 157), (15, 368), (15, 495), (16, 517), (23, 461), (23, 512), (24, 193), (26, 535), (28, 29), (28, 513), (29, 6), (32, 316), (33, 28), (34, 159), (34, 192), (34, 219), (38, 250), (41, 155), (41, 273), (41, 309), (43, 223), (43, 278), (57, 14), (57, 408), (63, 152), (63, 200), (63, 434), (63, 543), (63, 565), (64, 209), (65, 91), (65, 439), (72, 126), (73, 485), (85, 10), (89, 322), (90, 564), (91, 470), (91, 536), (94, 209), (95, 190), (95, 264), (95, 554), (101, 442), (104, 89), (104, 414), (105, 160), (105, 245), (105, 261), (105, 467), (105, 526), (113, 328), (120, 323), (123, 471), (126, 94), (126, 168), (126, 234), (126, 355), (126, 356), (127, 302), (127, 398), (128, 388), (128, 508), (131, 136), (131, 429), (140, 44), (152, 190), (152, 264), (152, 554), (154, 393), (158, 190), (158, 264), (158, 554), (159, 453), (159, 567), (160, 64), (160, 236), (168, 303), (168, 454), (169, 134), (171, 29), (171, 513), (184, 158), (185, 152), (185, 200), (185, 434), (185, 543), (185, 565), (186, 292), (187, 461), (187, 512), (189, 251), (190, 190), (190, 264), (190, 554), (192, 493), (198, 40), (200, 190), (200, 264), (200, 554), (202, 485), (203, 377), (208, 292), (213, 14), (213, 408), (215, 251), (216, 529), (217, 160), (217, 245), (217, 261), (217, 467), (217, 526), (219, 453), (219, 567), (222, 388), (222, 508), (228, 218), (229, 485), (232, 291), (232, 466), (234, 303), (234, 454), (235, 470), (235, 536), (236, 471), (239, 323), (240, 292), (241, 461), (241, 512), (245, 29), (245, 513), (247, 533), (252, 291), (252, 466), (253, 136), (253, 429), (257, 289), (261, 2), (261, 73), (261, 122), (261, 244), (261, 399), (264, 32), (264, 137), (264, 353), (273, 88), (275, 0), (275, 153), (275, 169), (275, 201), (275, 262), (275, 563), (277, 452), (283, 14), (283, 408), (284, 98), (284, 176), (284, 505), (293, 272), (293, 354), (293, 562), (294, 323), (295, 6), (302, 564), (303, 89), (303, 414), (304, 104), (304, 203), (305, 208), (306, 0), (306, 153), (306, 169), (306, 201), (306, 262), (306, 563), (307, 551), (307, 566), (308, 277), (308, 498), (309, 190), (309, 264), (309, 554), (310, 29), (310, 513), (312, 83), (313, 394), (316, 35), (316, 571), (321, 157), (321, 368), (321, 495), (322, 33), (322, 41), (329, 5), (332, 325), (333, 106), (344, 352), (345, 156), (351, 460), (353, 460), (356, 367), (362, 85), (366, 190), (366, 264), (366, 554), (367, 134), (376, 453), (376, 567), (380, 370), (384, 152), (384, 200), (384, 434), (384, 543), (384, 565), (385, 152), (385, 200), (385, 434), (385, 543), (385, 565), (386, 128), (386, 222), (386, 232), (386, 411), (387, 2), (387, 73), (387, 122), (387, 244), (387, 399), (395, 242), (397, 334), (397, 428), (398, 323), (399, 134), (406, 410), (408, 64), (408, 236), (409, 367), (415, 317), (415, 560), (416, 251), (422, 489), (424, 308), (428, 283), (428, 463), (429, 89), (429, 414), (430, 511), (434, 88), (438, 471), (439, 35), (439, 571), (443, 507), (452, 158), (453, 15), (453, 310), (454, 155), (454, 273), (454, 309), (461, 453), (461, 567), (463, 56), (463, 127), (463, 217), (463, 235), (466, 485), (467, 35), (467, 571), (470, 322), (471, 291), (471, 466), (476, 72), (476, 306), (477, 367), (480, 547), (481, 186), (481, 240), (481, 376), (482, 213), (484, 282), (485, 496), (490, 64), (490, 236), (493, 131), (494, 0), (494, 153), (494, 169), (494, 201), (494, 262), (494, 563), (496, 28), (497, 334), (497, 428), (502, 295), (503, 366), (512, 94), (512, 168), (512, 234), (512, 355), (512, 356), (513, 28), (514, 209), (515, 6), (521, 213), (522, 227), (527, 20), (529, 225), (531, 8), (533, 225), (536, 305), (537, 2), (537, 73), (537, 122), (537, 244), (537, 399), (543, 6), (549, 80), (554, 15), (554, 310), (557, 542), (560, 35), (560, 571), (561, 2), (561, 73), (561, 122), (561, 244), (561, 399), (562, 155), (562, 273), (562, 309), (563, 218), (564, 460), (565, 0), (565, 153), (565, 169), (565, 201), (565, 262), (565, 563), (566, 388), (566, 508), (567, 90), (567, 293), (567, 386), (568, 21), (570, 142), (573, 30)]\n"
     ]
    }
   ],
   "source": [
    "print(eq_indexes)"
   ]
  },
  {
   "cell_type": "code",
   "execution_count": null,
   "metadata": {},
   "outputs": [],
   "source": [
    "temp_list = list()\n",
    "for cortage in eq_indexes:\n",
    "    pass"
   ]
  },
  {
   "cell_type": "code",
   "execution_count": null,
   "metadata": {},
   "outputs": [],
   "source": []
  },
  {
   "cell_type": "code",
   "execution_count": null,
   "metadata": {},
   "outputs": [],
   "source": []
  },
  {
   "cell_type": "code",
   "execution_count": null,
   "metadata": {},
   "outputs": [],
   "source": []
  },
  {
   "cell_type": "code",
   "execution_count": null,
   "metadata": {},
   "outputs": [],
   "source": []
  },
  {
   "cell_type": "code",
   "execution_count": null,
   "metadata": {},
   "outputs": [],
   "source": []
  }
 ],
 "metadata": {
  "kernelspec": {
   "display_name": "Python 2",
   "language": "python",
   "name": "python2"
  },
  "language_info": {
   "codemirror_mode": {
    "name": "ipython",
    "version": 2
   },
   "file_extension": ".py",
   "mimetype": "text/x-python",
   "name": "python",
   "nbconvert_exporter": "python",
   "pygments_lexer": "ipython2",
   "version": "2.7.6"
  }
 },
 "nbformat": 4,
 "nbformat_minor": 0
}
