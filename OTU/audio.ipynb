{
 "cells": [
  {
   "cell_type": "code",
   "execution_count": 79,
   "metadata": {},
   "outputs": [],
   "source": [
    "CONST_1 = 800\n",
    "CONST_2 = 50\n",
    "\n"
   ]
  },
  {
   "cell_type": "code",
   "execution_count": 80,
   "metadata": {},
   "outputs": [],
   "source": [
    "path_to_file = r'/Users/owl/Pycharm/PycharmProjects/KMZ/OTU/files/in/audio_closed/1203145834_46893.wav'\n"
   ]
  },
  {
   "cell_type": "code",
   "execution_count": 81,
   "metadata": {},
   "outputs": [],
   "source": [
    "from pydub import AudioSegment"
   ]
  },
  {
   "cell_type": "code",
   "execution_count": 82,
   "metadata": {
    "collapsed": true
   },
   "outputs": [],
   "source": [
    "# нарезает файлик на сегменты указанной длинны \n",
    "def segmentation_8(sound, len_segment):\n",
    "    # global CONST_1\n",
    "    # sound = AudioSegment.from_wav(wav_name)\n",
    "    length = len(sound)\n",
    "    #print(str(length) + 'ms')\n",
    "    length1 = length % len_segment\n",
    "    length = length - length1\n",
    "    sound1 = sound[:length]\n",
    "    sound_list = []\n",
    "    i = 0\n",
    "    while i < length:\n",
    "        s = sound1[i:i + len_segment]\n",
    "        #print(len(s))\n",
    "        sound_list.append(s)\n",
    "        i = i + len_segment\n",
    "    return sound_list\n"
   ]
  },
  {
   "cell_type": "code",
   "execution_count": 83,
   "metadata": {},
   "outputs": [],
   "source": [
    "# проверяет монотонность\n",
    "def check(seg1_a, seg2_a):\n",
    "    seg1_mon = seg1_a[1][0] - seg1_a[1][1]\n",
    "    seg2_mon = - seg2_a[0][0] + seg2_a[0][1]\n",
    "    if seg1_mon * seg2_mon >= 0:\n",
    "        return True\n",
    "    else:\n",
    "        return False\n"
   ]
  },
  {
   "cell_type": "code",
   "execution_count": 96,
   "metadata": {},
   "outputs": [],
   "source": [
    "# проверяет монотонность для начального и конечногог кусочков, подавай конец первого и начало второго\n",
    "def check_easy(seg1_a, seg2_a):\n",
    "    seg1_mon = seg1_a[0] - seg1_a[1]\n",
    "    seg2_mon = - seg2_a[0] + seg2_a[1]\n",
    "    if seg1_mon * seg2_mon >= 0:\n",
    "        return True\n",
    "    else:\n",
    "        return False\n"
   ]
  },
  {
   "cell_type": "code",
   "execution_count": 84,
   "metadata": {},
   "outputs": [],
   "source": [
    "# извлекает \"высоту\" первого и последнего ксочков\n",
    "# получаем амплитуду\n",
    "\n",
    "\n",
    "def amplitude(seg):\n",
    "    beg = (seg[0].max, seg[1].max, seg[2].max, seg[3].max, seg[4].max)\n",
    "    end = (seg[-2].max, seg[-3].max, seg[-4].max, seg[-5].max, seg[-6].max)\n",
    "    return beg, end\n"
   ]
  },
  {
   "cell_type": "code",
   "execution_count": 85,
   "metadata": {},
   "outputs": [],
   "source": [
    "file = AudioSegment.from_wav(path_to_file)\n"
   ]
  },
  {
   "cell_type": "code",
   "execution_count": 86,
   "metadata": {},
   "outputs": [],
   "source": [
    "file_slice_big = segmentation_8(file, CONST_1)"
   ]
  },
  {
   "cell_type": "code",
   "execution_count": 87,
   "metadata": {},
   "outputs": [],
   "source": [
    "file_slice_small = list()\n",
    "file_slice_small_amplitude = list()\n",
    "for _slice in file_slice_big:\n",
    "    temp_slice = segmentation_8(_slice, CONST_2)\n",
    "    file_slice_small += temp_slice\n",
    "    for f in temp_slice:\n",
    "        file_slice_small_amplitude += amplitude(f)"
   ]
  },
  {
   "cell_type": "code",
   "execution_count": 98,
   "metadata": {},
   "outputs": [],
   "source": [
    "eq_indexes = list()\n",
    "for index_first in range(len(file_slice_small_amplitude)):\n",
    "    for index_last in range(len(file_slice_small_amplitude)):\n",
    "        end_ = file_slice_small_amplitude[index_first]\n",
    "        first_ = file_slice_small_amplitude[index_last]\n",
    "        # print(end_, first_)\n",
    "        # break\n",
    "    # break\n",
    "        if end_[-1] == first_[0] and check_easy(end_, first_):\n",
    "            eq_indexes.append((index_first, index_last))\n"
   ]
  },
  {
   "cell_type": "code",
   "execution_count": 99,
   "metadata": {
    "collapsed": true
   },
   "outputs": [
    {
     "data": {
      "text/plain": [
       "0.7326388888888888"
      ]
     },
     "execution_count": 99,
     "metadata": {},
     "output_type": "execute_result"
    }
   ],
   "source": [
    "len(eq_indexes) / len(file_slice_small)"
   ]
  },
  {
   "cell_type": "code",
   "execution_count": 100,
   "metadata": {
    "collapsed": true
   },
   "outputs": [
    {
     "name": "stdout",
     "output_type": "stream",
     "text": [
      "[(0, 152), (0, 434), (3, 33), (3, 41), (4, 460), (5, 244), (5, 399), (15, 495), (23, 461), (26, 535), (28, 513), (29, 6), (33, 28), (38, 250), (41, 273), (41, 309), (43, 278), (57, 14), (57, 408), (63, 152), (63, 200), (63, 543), (63, 565), (73, 485), (91, 470), (94, 209), (95, 190), (95, 264), (95, 554), (104, 89), (105, 160), (105, 245), (105, 467), (113, 328), (123, 471), (126, 94), (126, 356), (127, 398), (128, 388), (128, 508), (131, 136), (152, 190), (152, 264), (152, 554), (158, 190), (158, 264), (158, 554), (159, 567), (160, 64), (160, 236), (168, 303), (171, 29), (171, 513), (184, 158), (185, 152), (185, 200), (185, 543), (185, 565), (187, 461), (190, 190), (190, 264), (190, 554), (192, 493), (198, 40), (200, 190), (200, 264), (203, 377), (208, 292), (213, 14), (213, 408), (217, 160), (217, 245), (217, 467), (219, 567), (222, 388), (222, 508), (228, 218), (229, 485), (232, 291), (232, 466), (234, 303), (235, 470), (236, 471), (241, 461), (245, 513), (253, 429), (261, 2), (261, 73), (261, 122), (264, 32), (264, 137), (264, 353), (273, 88), (275, 0), (275, 262), (275, 563), (277, 452), (283, 14), (283, 408), (284, 98), (284, 505), (293, 272), (293, 354), (293, 562), (294, 323), (295, 6), (302, 564), (303, 89), (303, 414), (304, 104), (304, 203), (305, 208), (306, 153), (306, 169), (306, 201), (306, 563), (308, 277), (309, 190), (309, 264), (309, 554), (310, 513), (321, 157), (321, 368), (332, 325), (344, 352), (353, 460), (356, 367), (366, 190), (366, 264), (367, 134), (376, 567), (384, 152), (384, 200), (384, 543), (384, 565), (385, 152), (385, 200), (385, 543), (385, 565), (386, 232), (387, 244), (387, 399), (397, 334), (397, 428), (399, 134), (408, 64), (408, 236), (409, 367), (415, 317), (415, 560), (416, 251), (422, 489), (424, 308), (428, 463), (429, 414), (434, 88), (438, 471), (453, 310), (454, 273), (454, 309), (461, 453), (463, 56), (463, 217), (463, 235), (466, 485), (467, 35), (467, 571), (470, 322), (471, 291), (471, 466), (477, 367), (480, 547), (481, 376), (482, 213), (484, 282), (490, 64), (490, 236), (493, 131), (494, 0), (494, 262), (494, 563), (496, 28), (497, 334), (497, 428), (503, 366), (512, 94), (512, 356), (513, 28), (521, 213), (522, 227), (527, 20), (529, 225), (533, 225), (536, 305), (537, 2), (537, 73), (537, 122), (549, 80), (554, 310), (557, 542), (561, 244), (561, 399), (562, 273), (562, 309), (563, 218), (565, 153), (565, 169), (565, 201), (565, 563), (567, 90), (573, 30)]\n"
     ]
    }
   ],
   "source": [
    "print(eq_indexes)"
   ]
  },
  {
   "cell_type": "code",
   "execution_count": 101,
   "metadata": {},
   "outputs": [],
   "source": [
    "eq_indexes_dict = dict()  # {once_index: [next_index]}\n",
    "for pair in eq_indexes:\n",
    "    try:\n",
    "        eq_indexes_dict[pair[0]].append(pair[1])\n",
    "    except KeyError:\n",
    "        eq_indexes_dict[pair[0]] = [pair[1]]\n"
   ]
  },
  {
   "cell_type": "code",
   "execution_count": 92,
   "metadata": {
    "collapsed": true
   },
   "outputs": [
    {
     "data": {
      "text/plain": [
       "{0: [152, 200, 434, 543, 565],\n 2: [561],\n 3: [33, 41],\n 4: [460],\n 5: [2, 73, 122, 244, 399],\n 6: [515],\n 8: [405, 531],\n 9: [473],\n 13: [12],\n 15: [157, 368, 495],\n 16: [517],\n 23: [461, 512],\n 24: [193],\n 26: [535],\n 28: [29, 513],\n 29: [6],\n 32: [316],\n 33: [28],\n 34: [159, 192, 219],\n 38: [250],\n 41: [155, 273, 309],\n 43: [223, 278],\n 57: [14, 408],\n 63: [152, 200, 434, 543, 565],\n 64: [209],\n 65: [91, 439],\n 72: [126],\n 73: [485],\n 85: [10],\n 89: [322],\n 90: [564],\n 91: [470, 536],\n 94: [209],\n 95: [190, 264, 554],\n 101: [442],\n 104: [89, 414],\n 105: [160, 245, 261, 467, 526],\n 113: [328],\n 120: [323],\n 123: [471],\n 126: [94, 168, 234, 355, 356],\n 127: [302, 398],\n 128: [388, 508],\n 131: [136, 429],\n 140: [44],\n 152: [190, 264, 554],\n 154: [393],\n 158: [190, 264, 554],\n 159: [453, 567],\n 160: [64, 236],\n 168: [303, 454],\n 169: [134],\n 171: [29, 513],\n 184: [158],\n 185: [152, 200, 434, 543, 565],\n 186: [292],\n 187: [461, 512],\n 189: [251],\n 190: [190, 264, 554],\n 192: [493],\n 198: [40],\n 200: [190, 264, 554],\n 202: [485],\n 203: [377],\n 208: [292],\n 213: [14, 408],\n 215: [251],\n 216: [529],\n 217: [160, 245, 261, 467, 526],\n 219: [453, 567],\n 222: [388, 508],\n 228: [218],\n 229: [485],\n 232: [291, 466],\n 234: [303, 454],\n 235: [470, 536],\n 236: [471],\n 239: [323],\n 240: [292],\n 241: [461, 512],\n 245: [29, 513],\n 247: [533],\n 252: [291, 466],\n 253: [136, 429],\n 257: [289],\n 261: [2, 73, 122, 244, 399],\n 264: [32, 137, 353],\n 273: [88],\n 275: [0, 153, 169, 201, 262, 563],\n 277: [452],\n 283: [14, 408],\n 284: [98, 176, 505],\n 293: [272, 354, 562],\n 294: [323],\n 295: [6],\n 302: [564],\n 303: [89, 414],\n 304: [104, 203],\n 305: [208],\n 306: [0, 153, 169, 201, 262, 563],\n 307: [551, 566],\n 308: [277, 498],\n 309: [190, 264, 554],\n 310: [29, 513],\n 312: [83],\n 313: [394],\n 316: [35, 571],\n 321: [157, 368, 495],\n 322: [33, 41],\n 329: [5],\n 332: [325],\n 333: [106],\n 344: [352],\n 345: [156],\n 351: [460],\n 353: [460],\n 356: [367],\n 362: [85],\n 366: [190, 264, 554],\n 367: [134],\n 376: [453, 567],\n 380: [370],\n 384: [152, 200, 434, 543, 565],\n 385: [152, 200, 434, 543, 565],\n 386: [128, 222, 232, 411],\n 387: [2, 73, 122, 244, 399],\n 395: [242],\n 397: [334, 428],\n 398: [323],\n 399: [134],\n 406: [410],\n 408: [64, 236],\n 409: [367],\n 415: [317, 560],\n 416: [251],\n 422: [489],\n 424: [308],\n 428: [283, 463],\n 429: [89, 414],\n 430: [511],\n 434: [88],\n 438: [471],\n 439: [35, 571],\n 443: [507],\n 452: [158],\n 453: [15, 310],\n 454: [155, 273, 309],\n 461: [453, 567],\n 463: [56, 127, 217, 235],\n 466: [485],\n 467: [35, 571],\n 470: [322],\n 471: [291, 466],\n 476: [72, 306],\n 477: [367],\n 480: [547],\n 481: [186, 240, 376],\n 482: [213],\n 484: [282],\n 485: [496],\n 490: [64, 236],\n 493: [131],\n 494: [0, 153, 169, 201, 262, 563],\n 496: [28],\n 497: [334, 428],\n 502: [295],\n 503: [366],\n 512: [94, 168, 234, 355, 356],\n 513: [28],\n 514: [209],\n 515: [6],\n 521: [213],\n 522: [227],\n 527: [20],\n 529: [225],\n 531: [8],\n 533: [225],\n 536: [305],\n 537: [2, 73, 122, 244, 399],\n 543: [6],\n 549: [80],\n 554: [15, 310],\n 557: [542],\n 560: [35, 571],\n 561: [2, 73, 122, 244, 399],\n 562: [155, 273, 309],\n 563: [218],\n 564: [460],\n 565: [0, 153, 169, 201, 262, 563],\n 566: [388, 508],\n 567: [90, 293, 386],\n 568: [21],\n 570: [142],\n 573: [30]}"
      ]
     },
     "execution_count": 92,
     "metadata": {},
     "output_type": "execute_result"
    }
   ],
   "source": [
    "eq_indexes_dict"
   ]
  },
  {
   "cell_type": "code",
   "execution_count": 104,
   "metadata": {},
   "outputs": [
    {
     "name": "stdout",
     "output_type": "stream",
     "text": [
      "0.7847222222222222\n"
     ]
    }
   ],
   "source": [
    "# поиск потраченных\n",
    "lose_keys = list()\n",
    "for key_ in range(len(file_slice_small)):\n",
    "    try:\n",
    "        eq_indexes_dict[key_]\n",
    "    except KeyError:\n",
    "        lose_keys.append(key_)\n",
    "print(len(lose_keys) / len(file_slice_small))"
   ]
  },
  {
   "cell_type": "code",
   "execution_count": null,
   "metadata": {},
   "outputs": [],
   "source": []
  },
  {
   "cell_type": "code",
   "execution_count": null,
   "metadata": {},
   "outputs": [],
   "source": []
  },
  {
   "cell_type": "code",
   "execution_count": null,
   "metadata": {},
   "outputs": [],
   "source": []
  }
 ],
 "metadata": {
  "kernelspec": {
   "display_name": "Python 2",
   "language": "python",
   "name": "python2"
  },
  "language_info": {
   "codemirror_mode": {
    "name": "ipython",
    "version": 2
   },
   "file_extension": ".py",
   "mimetype": "text/x-python",
   "name": "python",
   "nbconvert_exporter": "python",
   "pygments_lexer": "ipython2",
   "version": "2.7.6"
  }
 },
 "nbformat": 4,
 "nbformat_minor": 0
}
